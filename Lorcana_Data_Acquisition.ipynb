{
 "cells": [
  {
   "cell_type": "markdown",
   "id": "5247dae3-dfdf-4d85-aba9-7c1efacac05e",
   "metadata": {},
   "source": [
    "# Lorcana Data Acquisition #\n",
    "The first step in this process is data acquisition. I will start in this notebook simply by acquiring a list of all cards, as well as images (when available), which I was able to find on [lorcanaplayer.com](https://lorcanaplayer.com/lorcana-card-list/)."
   ]
  },
  {
   "cell_type": "markdown",
   "id": "dbb1f19a-afcb-4c4b-9c2d-cb91d10f4a3d",
   "metadata": {},
   "source": [
    "## Building a List of All Cards ##\n",
    "There is a website with a reasonable list of all the cards. It is formatted as an HTML table, so I should be able to use pandas to read the data direction. It also has pictures of all the cards, which I would also like to have. I am going to start by pulling what data I can with pandas. I will circle back to the images."
   ]
  },
  {
   "cell_type": "code",
   "execution_count": 4,
   "id": "fca87525-0e80-4666-aafb-9e6ecb008a4b",
   "metadata": {},
   "outputs": [],
   "source": [
    "import os\n",
    "from io import StringIO\n",
    "import pandas as pd\n",
    "import requests"
   ]
  },
  {
   "cell_type": "code",
   "execution_count": 5,
   "id": "99dc123d-5e92-4543-8b08-5768f7e53427",
   "metadata": {},
   "outputs": [
    {
     "data": {
      "text/html": [
       "<div>\n",
       "<style scoped>\n",
       "    .dataframe tbody tr th:only-of-type {\n",
       "        vertical-align: middle;\n",
       "    }\n",
       "\n",
       "    .dataframe tbody tr th {\n",
       "        vertical-align: top;\n",
       "    }\n",
       "\n",
       "    .dataframe thead th {\n",
       "        text-align: right;\n",
       "    }\n",
       "</style>\n",
       "<table border=\"1\" class=\"dataframe\">\n",
       "  <thead>\n",
       "    <tr style=\"text-align: right;\">\n",
       "      <th></th>\n",
       "      <th>Image</th>\n",
       "      <th>Card number</th>\n",
       "      <th>Card Name</th>\n",
       "      <th>Type</th>\n",
       "      <th>Ink color</th>\n",
       "      <th>Rarity</th>\n",
       "    </tr>\n",
       "  </thead>\n",
       "  <tbody>\n",
       "    <tr>\n",
       "      <th>0</th>\n",
       "      <td>NaN</td>\n",
       "      <td>1/204</td>\n",
       "      <td>Ariel - On Human Legs</td>\n",
       "      <td>Character</td>\n",
       "      <td>Amber</td>\n",
       "      <td>Uncommon</td>\n",
       "    </tr>\n",
       "    <tr>\n",
       "      <th>1</th>\n",
       "      <td>NaN</td>\n",
       "      <td>2/204</td>\n",
       "      <td>Ariel - Spectacular Singer</td>\n",
       "      <td>Character</td>\n",
       "      <td>Amber</td>\n",
       "      <td>Super Rare</td>\n",
       "    </tr>\n",
       "    <tr>\n",
       "      <th>2</th>\n",
       "      <td>NaN</td>\n",
       "      <td>3/204</td>\n",
       "      <td>Cinderella - Gentle and Kind</td>\n",
       "      <td>Character</td>\n",
       "      <td>Amber</td>\n",
       "      <td>Uncommon</td>\n",
       "    </tr>\n",
       "    <tr>\n",
       "      <th>3</th>\n",
       "      <td>NaN</td>\n",
       "      <td>4/204</td>\n",
       "      <td>Goofy - Musketeer</td>\n",
       "      <td>Character</td>\n",
       "      <td>Amber</td>\n",
       "      <td>Uncommon</td>\n",
       "    </tr>\n",
       "    <tr>\n",
       "      <th>4</th>\n",
       "      <td>NaN</td>\n",
       "      <td>5/204</td>\n",
       "      <td>Hades - King of Olympus</td>\n",
       "      <td>Character</td>\n",
       "      <td>Amber</td>\n",
       "      <td>Rare</td>\n",
       "    </tr>\n",
       "  </tbody>\n",
       "</table>\n",
       "</div>"
      ],
      "text/plain": [
       "   Image Card number                     Card Name       Type Ink color  \\\n",
       "0    NaN       1/204         Ariel - On Human Legs  Character     Amber   \n",
       "1    NaN       2/204    Ariel - Spectacular Singer  Character     Amber   \n",
       "2    NaN       3/204  Cinderella - Gentle and Kind  Character     Amber   \n",
       "3    NaN       4/204             Goofy - Musketeer  Character     Amber   \n",
       "4    NaN       5/204       Hades - King of Olympus  Character     Amber   \n",
       "\n",
       "       Rarity  \n",
       "0    Uncommon  \n",
       "1  Super Rare  \n",
       "2    Uncommon  \n",
       "3    Uncommon  \n",
       "4        Rare  "
      ]
     },
     "execution_count": 5,
     "metadata": {},
     "output_type": "execute_result"
    }
   ],
   "source": [
    "card_list_url = r'https://lorcanaplayer.com/lorcana-card-list/#the-first-chapter'\n",
    "resp = requests.get(card_list_url)\n",
    "\n",
    "card_lists = pd.read_html(StringIO(resp.text))\n",
    "\n",
    "# I am going to start with The First Chapter\n",
    "df_first_chapter = card_lists[1]\n",
    "df_first_chapter.head()"
   ]
  },
  {
   "cell_type": "markdown",
   "id": "f4297909-1c9e-4589-b27b-fa7a3c06609a",
   "metadata": {},
   "source": [
    "That looks good to me. I will need to find a way to get the images because not only did they not come through, the link the underlying file did not either. I will find a way to pull those links and align them with their cards. I will also download all the images and save them locally.\n",
    "\n",
    "First, I will simply save the tables as files. I will start by directly saving the raw data. I will want to do some light processing (e.g. parsing the `Card Number` attribute as an integer) and save the processed files separately. Later, I will build a database to hold the data and a simple pipeline to transform the data."
   ]
  },
  {
   "cell_type": "code",
   "execution_count": 6,
   "id": "f91cdec9-3f5d-42b8-9881-a854fadda49f",
   "metadata": {},
   "outputs": [],
   "source": [
    "raw_dir = r'./data/raw'\n",
    "df_first_chapter.to_csv(os.path.join(raw_dir, 'the_first_chapter.csv'), index=False)\n",
    "\n",
    "# Rise of the Floodborn\n",
    "df_rotfb = card_lists[0]\n",
    "df_rotfb.to_csv(os.path.join(raw_dir, 'rise_of_the_floodborn.csv'), index=False)\n",
    "\n",
    "# Disney 100 Promos\n",
    "df_d100_promos = card_lists[2]\n",
    "df_d100_promos.to_csv(os.path.join(raw_dir, 'd100_promos.csv'), index=False)"
   ]
  },
  {
   "cell_type": "markdown",
   "id": "2a1f4920-b0bc-4595-a8d8-08e3a842ad65",
   "metadata": {},
   "source": [
    "The data look reasonable to me. Next, I will try to obtain the images from the website\n",
    "\n",
    "### Card Images ###\n",
    "\n",
    "I am only somewhat familiar with the packages I'm going to use, so this will be a learning experience. I am going to you BeautifulSoup to extract the image addresses. I think if I find all the image elements inside the card list tables, they should be in order, so I should be able to line them up. But I'm not sure.\n",
    "\n",
    "[This StackOverflow answer](https://stackoverflow.com/questions/2010481/how-do-you-get-all-the-rows-from-a-particular-table-using-beautifulsoup) isn't exactly what we need, but I think it's close enough that I can make it work."
   ]
  },
  {
   "cell_type": "code",
   "execution_count": 7,
   "id": "e0fc8824-33cf-4fa5-8e45-4260776ce580",
   "metadata": {},
   "outputs": [],
   "source": [
    "from bs4 import BeautifulSoup"
   ]
  },
  {
   "cell_type": "code",
   "execution_count": 8,
   "id": "6b7419ea-6897-4778-92b0-542624963802",
   "metadata": {},
   "outputs": [
    {
     "data": {
      "text/plain": [
       "'https://e40b7872.flyingcdn.com/wp-content/uploads/2023/04/Ariel-On-Human-Legs-1-158x220.jpg'"
      ]
     },
     "execution_count": 8,
     "metadata": {},
     "output_type": "execute_result"
    }
   ],
   "source": [
    "soup = BeautifulSoup(resp.text, 'html.parser')\n",
    "\n",
    "# I need elements like '//table[@class=\"card-list-table\"]/tbody/tr/td/a/img'\n",
    "tables = soup.findChildren('table')\n",
    "first_chapter_html = tables[1]\n",
    "#print(first_chapter_html)\n",
    "\n",
    "images = first_chapter_html.findChildren('img')\n",
    "images[0]['src']"
   ]
  },
  {
   "cell_type": "code",
   "execution_count": 9,
   "id": "4f87a67f-39e0-4dc3-be9f-06c95fcd37f1",
   "metadata": {},
   "outputs": [],
   "source": [
    "# Download all the images\n",
    "image_dir = r'./data/images'\n",
    "if not os.path.isdir(image_dir):\n",
    "    os.mkdir(image_dir)\n",
    "\n",
    "for image in images:\n",
    "    # I want to stream the image data\n",
    "    img_resp = requests.get(image['src'], stream=True)\n",
    "\n",
    "    if img_resp.status_code == 200:\n",
    "        img_filename = os.path.basename(image['src'])\n",
    "        img_out_path = os.path.join(image_dir, img_filename)\n",
    "        with open(img_out_path, 'wb') as f:\n",
    "            for chunk in img_resp.iter_content(chunk_size=8192):\n",
    "                f.write(chunk)\n",
    "    else:\n",
    "        print(\"error with image download\")\n",
    "        # TODO: more robust error handling"
   ]
  },
  {
   "cell_type": "markdown",
   "id": "3e3902eb-8639-424c-9375-569f85de302b",
   "metadata": {},
   "source": [
    "I can see image files populating, so this seems to be working. There are a couple of **To Do** items I will eventually want to take on:\n",
    "- Wrap the cell above as a function\n",
    "- Add some useful metadata to the output file names (and rename the files I already downloaded)\n",
    "\n",
    "I will keep on moving for now. I will work mostly with the First Chapter set for this first pass."
   ]
  },
  {
   "cell_type": "code",
   "execution_count": null,
   "id": "ffd47b83-8911-4141-9b6c-c9fa67e81d2e",
   "metadata": {},
   "outputs": [],
   "source": []
  }
 ],
 "metadata": {
  "kernelspec": {
   "display_name": "tcg-tracker",
   "language": "python",
   "name": "tcg-tracker"
  },
  "language_info": {
   "codemirror_mode": {
    "name": "ipython",
    "version": 3
   },
   "file_extension": ".py",
   "mimetype": "text/x-python",
   "name": "python",
   "nbconvert_exporter": "python",
   "pygments_lexer": "ipython3",
   "version": "3.12.0"
  }
 },
 "nbformat": 4,
 "nbformat_minor": 5
}
