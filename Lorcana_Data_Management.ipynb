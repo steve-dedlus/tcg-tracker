{
 "cells": [
  {
   "cell_type": "markdown",
   "id": "6fff0567-fc56-440e-87e3-8eb3d9f24956",
   "metadata": {},
   "source": [
    "# Lorcana Data Management #\n",
    "\n",
    "## Tooling ##\n",
    "I feel that deciding how to manage data is the first time we need to make some decisions about tooling. There are a lot of options, and while I'm sure there are some strong opinions, I may not adhere to them. I have only a couple of criteria:\n",
    "- Cloud hosted, for the most part\n",
    "- Inexpensive\n",
    "- Provides a learning opportunity\n",
    "- Extendable\n",
    "\n",
    "For that last point, I may change my decisions later. But I will do my best to choose initial tools that will allow me to make those changes later. Most importantly, I'm going to try not to overthink it.\n",
    "\n",
    "As a first prototype, I am going to keep it as simple as there is and use sqlite. We don't have too much data, so I don't think it should be a problem. That way, this is all relatively portable, and I won't have to pay for any cloud resources until I have an initial working version.\n",
    "\n",
    "### Data Processing Pipeline ###\n",
    "There are two items I want to accomplish when cleaning up the data:\n",
    "- Set the `Card number` field as a simple integer. The number of cards in the set can be captured later as an attribute of the set.\n",
    "- Get links for all the images. I will download the images later and update the links to a location I control.\n",
    "\n",
    "#### Process the card number ####\n",
    "I will want to build a function to read in the file and update the attribute. I will be able to build a pipeline that executes all those functions later."
   ]
  },
  {
   "cell_type": "code",
   "execution_count": null,
   "id": "b3b760d4-7098-417f-bcd5-765076a07f9e",
   "metadata": {},
   "outputs": [],
   "source": []
  }
 ],
 "metadata": {
  "kernelspec": {
   "display_name": "tcg-tracker",
   "language": "python",
   "name": "tcg-tracker"
  },
  "language_info": {
   "codemirror_mode": {
    "name": "ipython",
    "version": 3
   },
   "file_extension": ".py",
   "mimetype": "text/x-python",
   "name": "python",
   "nbconvert_exporter": "python",
   "pygments_lexer": "ipython3",
   "version": "3.12.0"
  }
 },
 "nbformat": 4,
 "nbformat_minor": 5
}
